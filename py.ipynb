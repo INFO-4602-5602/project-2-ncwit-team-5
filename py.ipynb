{
 "cells": [
  {
   "cell_type": "code",
   "execution_count": null,
   "metadata": {
    "collapsed": true
   },
   "outputs": [],
   "source": [
    "#Peng Yan\n",
    "import pandas as pd\n",
    "import numpy as np\n",
    "import sys\n",
    "import matplotlib.pylab as plt\n",
    "%matplotlib inline\n",
    "import pylab as pl\n",
    "from pandas import\n",
    "\n",
    "df = pd.read_csv(\"NCWIT_DataV2_RawData.csv\")\n",
    "\n",
    "df.dropna(subset=['Enroll, Female: Avg. ACT Math Score (Enrl F)'], inplace = True)\n",
    "df.dropna(subset=['Enroll, Male: Avg. ACT Math Score (Enrl M)'], inplace = True)\n",
    "df = df[['Enroll, Female: Avg. ACT Math Score (Enrl F)','Enroll, Male: Avg. ACT Math Score (Enrl M)']]\n",
    "df.to_csv(\"1.csv\",index=False)\n",
    "#df.hist(column=\\\"Institution\\\", bins=10, figsize=(10,8), facecolor=\"steelblue\", edgecolor=\"white\")\n",
    "#pl.title(\"Frequency\")\n",
    "#pl.xlabel(\"Institution\")\n",
    "#pl.ylabel(\"Frequency\")\n",
    "\n"
   ]
  },
  {
   "cell_type": "code",
   "execution_count": null,
   "metadata": {
    "collapsed": true
   },
   "outputs": [],
   "source": [
    "#time\n",
    "df = pd.read_csv(\"NCWIT_DataV2_RawData.csv\")\n",
    "df.dropna(subset=['Enroll, Female: Average HS GPA (Enrl F)'], inplace = True)\n",
    "df.dropna(subset=['Enroll, Male: Average HS GPA (Enrl M)'], inplace = True)\n",
    "df.dropna(subset=['School Year'], inplace = True)\n",
    "df['School Year'] = df['School Year'].str.split('-').str[0].astype(int)\n",
    "df['Average HS GPA'] = (df['Enroll, Female: Average HS GPA (Enrl F)'] + df['Enroll, Male: Average HS GPA (Enrl M)'])/2\n",
    "df = df[['School Year','Average HS GPA']]\n",
    "df = df.sort_values(by=\"School Year\", ascending=True)\n",
    "df = df[[\"School Year\", \"Average HS GPA\"]].groupby(\"School Year\").mean()\n",
    "#print(df)\n",
    "df.to_csv(\"4.csv\")\n"
   ]
  }
 ],
 "metadata": {
  "kernelspec": {
   "display_name": "Python 3",
   "language": "python",
   "name": "python3"
  },
  "language_info": {
   "codemirror_mode": {
    "name": "ipython",
    "version": 3
   },
   "file_extension": ".py",
   "mimetype": "text/x-python",
   "name": "python",
   "nbconvert_exporter": "python",
   "pygments_lexer": "ipython3",
   "version": "3.6.3"
  }
 },
 "nbformat": 4,
 "nbformat_minor": 2
}
