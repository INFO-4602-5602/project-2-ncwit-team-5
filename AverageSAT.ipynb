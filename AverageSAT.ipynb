{
 "cells": [
  {
   "cell_type": "code",
   "execution_count": 2,
   "metadata": {},
   "outputs": [
    {
     "name": "stderr",
     "output_type": "stream",
     "text": [
      "/Users/zex0012/anaconda/lib/python3.6/site-packages/IPython/core/interactiveshell.py:2717: DtypeWarning: Columns (1) have mixed types. Specify dtype option on import or set low_memory=False.\n",
      "  interactivity=interactivity, compiler=compiler, result=result)\n"
     ]
    }
   ],
   "source": [
    "import pandas as pd\n",
    "import numpy as np\n",
    "import sys\n",
    "import matplotlib.pylab as plt\n",
    "%matplotlib inline\n",
    "import pylab as pl\n",
    "from pandas import *\n",
    "df = pd.read_csv(\"NCWIT_DataV2_RawData.csv\")\n",
    "\n",
    "df.dropna(subset=['Enroll, Female: Avg. SAT Math Score (Enrl F)'], inplace = True)\n",
    "df.dropna(subset=['Enroll, Male: Avg. SAT Math Score (Enrl M)'], inplace = True)\n",
    "df.dropna(subset=['School Year'], inplace = True)\n",
    "df['School Year'] = df['School Year'].str.split('-').str[0].astype(int)\n",
    "df['Average SAT Math Score'] = (df['Enroll, Female: Avg. SAT Math Score (Enrl F)'] + df['Enroll, Male: Avg. SAT Math Score (Enrl M)'])/2\n",
    "df = df[['School Year','Average SAT Math Score']]\n",
    "df = df.sort_values(by=\"School Year\", ascending=True)\n",
    "df = df[[\"School Year\", \"Average SAT Math Score\"]].groupby(\"School Year\").mean()\n",
    "df.to_csv(\"AverageSATData.csv\")"
   ]
  },
  {
   "cell_type": "code",
   "execution_count": null,
   "metadata": {
    "collapsed": true
   },
   "outputs": [],
   "source": []
  }
 ],
 "metadata": {
  "kernelspec": {
   "display_name": "Python 3",
   "language": "python",
   "name": "python3"
  },
  "language_info": {
   "codemirror_mode": {
    "name": "ipython",
    "version": 3
   },
   "file_extension": ".py",
   "mimetype": "text/x-python",
   "name": "python",
   "nbconvert_exporter": "python",
   "pygments_lexer": "ipython3",
   "version": "3.6.1"
  }
 },
 "nbformat": 4,
 "nbformat_minor": 2
}
