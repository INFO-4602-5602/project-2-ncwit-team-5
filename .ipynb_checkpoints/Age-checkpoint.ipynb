{
 "cells": [
  {
   "cell_type": "code",
   "execution_count": 1,
   "metadata": {},
   "outputs": [
    {
     "name": "stderr",
     "output_type": "stream",
     "text": [
      "/Users/zex0012/anaconda/lib/python3.6/site-packages/IPython/core/interactiveshell.py:2717: DtypeWarning: Columns (1) have mixed types. Specify dtype option on import or set low_memory=False.\n",
      "  interactivity=interactivity, compiler=compiler, result=result)\n"
     ]
    }
   ],
   "source": [
    "import pandas as pd\n",
    "import numpy as np\n",
    "import sys\n",
    "import matplotlib.pylab as plt\n",
    "%matplotlib inline\n",
    "import pylab as pl\n",
    "from pandas import *\n",
    "df = pd.read_csv(\"NCWIT_DataV2_RawData.csv\")"
   ]
  },
  {
   "cell_type": "code",
   "execution_count": 2,
   "metadata": {},
   "outputs": [
    {
     "name": "stdout",
     "output_type": "stream",
     "text": [
      "             Enroll, Female: Average Age (Enrl F)\n",
      "School Year                                      \n",
      "2003                                    20.944444\n",
      "2004                                    19.490909\n",
      "2005                                    20.118750\n",
      "2006                                    19.038636\n",
      "2007                                    20.055200\n",
      "2008                                    19.193000\n",
      "2009                                    19.792600\n",
      "2010                                    20.130050\n",
      "2011                                    20.557255\n",
      "2012                                    20.348929\n",
      "2013                                    20.216980\n",
      "2014                                    19.813511\n",
      "2015                                    19.076577\n",
      "2016                                    18.248280\n"
     ]
    }
   ],
   "source": [
    "df.dropna(subset=['Enroll, Female: Average Age (Enrl F)'], inplace = True)\n",
    "df.dropna(subset=['School Year'], inplace = True)\n",
    "df['School Year'] = df['School Year'].str.split('-').str[0].astype(int)\n",
    "df = df[['School Year','Enroll, Female: Average Age (Enrl F)']]\n",
    "df = df.sort_values(by=\"School Year\", ascending=True)\n",
    "#df = df[[\"School Year\", \"Enroll, Female: Average Age (Enrl F)\"]].groupby(\"School Year\").mean()\n",
    "print(df)\n",
    "#df.to_csv(\"2.csv\")"
   ]
  },
  {
   "cell_type": "code",
   "execution_count": null,
   "metadata": {
    "collapsed": true
   },
   "outputs": [],
   "source": []
  }
 ],
 "metadata": {
  "kernelspec": {
   "display_name": "Python 3",
   "language": "python",
   "name": "python3"
  },
  "language_info": {
   "codemirror_mode": {
    "name": "ipython",
    "version": 3
   },
   "file_extension": ".py",
   "mimetype": "text/x-python",
   "name": "python",
   "nbconvert_exporter": "python",
   "pygments_lexer": "ipython3",
   "version": "3.6.1"
  }
 },
 "nbformat": 4,
 "nbformat_minor": 2
}
