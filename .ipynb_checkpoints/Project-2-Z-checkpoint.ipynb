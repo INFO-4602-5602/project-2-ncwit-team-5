{
 "cells": [
  {
   "cell_type": "code",
   "execution_count": 117,
   "metadata": {},
   "outputs": [
    {
     "name": "stderr",
     "output_type": "stream",
     "text": [
      "/Users/zex0012/anaconda/lib/python3.6/site-packages/IPython/core/interactiveshell.py:2717: DtypeWarning: Columns (1) have mixed types. Specify dtype option on import or set low_memory=False.\n",
      "  interactivity=interactivity, compiler=compiler, result=result)\n"
     ]
    }
   ],
   "source": [
    "import pandas as pd\n",
    "import numpy as np\n",
    "import sys\n",
    "import matplotlib.pylab as plt\n",
    "%matplotlib inline\n",
    "import pylab as pl\n",
    "from pandas import *\n",
    "df = pd.read_csv(\"NCWIT_DataV2_RawData.csv\")"
   ]
  },
  {
   "cell_type": "code",
   "execution_count": 118,
   "metadata": {},
   "outputs": [
    {
     "name": "stdout",
     "output_type": "stream",
     "text": [
      "             Average HS GPA\n",
      "School Year                \n",
      "2003               3.626875\n",
      "2004               3.514500\n",
      "2005               3.493846\n",
      "2006               3.527333\n",
      "2007               3.568000\n",
      "2008               3.640676\n",
      "2009               3.607907\n",
      "2010               3.547820\n",
      "2011               3.559508\n",
      "2012               3.593079\n",
      "2013               3.618122\n",
      "2014               3.558457\n",
      "2015               3.572873\n",
      "2016               3.757000\n"
     ]
    }
   ],
   "source": [
    "df.dropna(subset=['Enroll, Female: Average HS GPA (Enrl F)'], inplace = True)\n",
    "df.dropna(subset=['Enroll, Male: Average HS GPA (Enrl M)'], inplace = True)\n",
    "df.dropna(subset=['School Year'], inplace = True)\n",
    "df['School Year'] = df['School Year'].str.split('-').str[0].astype(int)\n",
    "df['Average HS GPA'] = (df['Enroll, Female: Average HS GPA (Enrl F)'] + df['Enroll, Male: Average HS GPA (Enrl M)'])/2\n",
    "df = df[['School Year','Average HS GPA']]\n",
    "df = df.sort_values(by=\"School Year\", ascending=True)\n",
    "df = df[[\"School Year\", \"Average HS GPA\"]].groupby(\"School Year\").mean()\n",
    "print(df)\n",
    "#df.to_csv(\"2.csv\")\n"
   ]
  },
  {
   "cell_type": "code",
   "execution_count": null,
   "metadata": {
    "collapsed": true
   },
   "outputs": [],
   "source": []
  },
  {
   "cell_type": "code",
   "execution_count": null,
   "metadata": {
    "collapsed": true
   },
   "outputs": [],
   "source": []
  }
 ],
 "metadata": {
  "kernelspec": {
   "display_name": "Python 3",
   "language": "python",
   "name": "python3"
  },
  "language_info": {
   "codemirror_mode": {
    "name": "ipython",
    "version": 3
   },
   "file_extension": ".py",
   "mimetype": "text/x-python",
   "name": "python",
   "nbconvert_exporter": "python",
   "pygments_lexer": "ipython3",
   "version": "3.6.1"
  }
 },
 "nbformat": 4,
 "nbformat_minor": 2
}
